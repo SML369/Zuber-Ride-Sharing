{
 "cells": [
  {
   "cell_type": "markdown",
   "metadata": {},
   "source": [
    "# Hola Santiago!\n",
    "\n",
    "Mi nombre es David Bautista, soy code reviewer de TripleTen y voy a revisar el proyecto que acabas de desarrollar.\n",
    "\n",
    "Cuando vea un error la primera vez, lo señalaré. Deberás encontrarlo y arreglarlo. La intención es que te prepares para un espacio real de trabajo. En un trabajo, el líder de tu equipo hará lo mismo. Si no puedes solucionar el error, te daré más información en la próxima ocasión.\n",
    "\n",
    "Encontrarás mis comentarios más abajo - **por favor, no los muevas, no los modifiques ni los borres.**\n",
    "\n",
    "¿Cómo lo voy a hacer? Voy a leer detenidamente cada una de las implementaciones que has llevado a cabo para cumplir con lo solicitado. Verás los comentarios de esta forma:\n",
    "\n",
    "\n",
    "<div class=\"alert alert-block alert-success\">\n",
    "<b>Comentario del revisor</b> <a class=\"tocSkip\"></a>\n",
    "    \n",
    "Si todo está perfecto.\n",
    "</div>\n",
    "\n",
    "\n",
    "<div class=\"alert alert-block alert-warning\">\n",
    "<b>Comentario del revisor</b> <a class=\"tocSkip\"></a>\n",
    "    \n",
    "Si tu código está bien pero se puede mejorar o hay algún detalle que le hace falta.\n",
    "</div>\n",
    "\n",
    "\n",
    "<div class=\"alert alert-block alert-danger\">\n",
    "    \n",
    "<b>Comentario del revisor</b> <a class=\"tocSkip\"></a>\n",
    "    \n",
    "    \n",
    "Si de pronto hace falta algo o existe algún problema con tu código o conclusiones.\n",
    "</div>\n",
    "\n",
    "\n",
    "Puedes responderme de esta forma: \n",
    "\n",
    "<div class=\"alert alert-block alert-info\">\n",
    "<b>Respuesta del estudiante</b> <a class=\"tocSkip\"></a>\n",
    "</div\n",
    "\n",
    "¡Empecemos!"
   ]
  },
  {
   "cell_type": "markdown",
   "metadata": {},
   "source": [
    "\n",
    "<div class=\"alert alert-block alert-danger\">\n",
    "<b>Comentario del revisor</b> <a class=\"tocSkip\"></a>\n",
    "\n",
    "# Comentario General\n",
    "\n",
    "~~Hola, Santiago, te felicito por el desarrollo del proyecto hasta el momento. Ahora bien, he dejado algunos comentarios para que los puedas tener en cuenta para la siguiente entrega.~~ </div>\n",
    "\n",
    "\n",
    "<div class=\"alert alert-block alert-success\">\n",
    "<b>Comentario del revisor</b> <a class=\"tocSkip\"></a>\n",
    "\n",
    "# Comentario General #2\n",
    "\n",
    "Hola, Santiago, te felicito por la culminación del proyecto. Muy buen trabajo. </div>"
   ]
  },
  {
   "cell_type": "markdown",
   "metadata": {},
   "source": [
    "\n",
    "<div class=\"alert alert-block alert-danger\">\n",
    "<b>Comentario del revisor</b> <a class=\"tocSkip\"></a>\n",
    "\n",
    "~~Hola, Santiago, yo sé que puede no estar especificado en las instrucciones del proyecto, sin embargo, sería interesante y aportaría mucho al contenido que generes una sección de introducción donde se comenten los objetivos que se piensan abarcar en esta exploración.~~ </div> "
   ]
  },
  {
   "cell_type": "markdown",
   "metadata": {},
   "source": [
    "<div class=\"alert alert-block alert-info\">\n",
    "<b>Respuesta del estudiante</b> <a class=\"tocSkip\"></a>\n",
    "A continuación con las consultas realizadas en SQL vamos a usar los dataframes para averiguar cuales son las principales empresas de taxis en la ciudad de Chicago, identificaremos los 10 principales barrios a los que se dirigen los usuarios y probaremos la siguiente prueba de hipotesis: \"La duración promedio de los viajes desde el Loop hasta el Aeropuerto Internacional O'Hare cambia los sábados lluviosos\".    \n",
    "</div"
   ]
  },
  {
   "cell_type": "markdown",
   "metadata": {},
   "source": [
    "### Inicializacion e importe de librerias"
   ]
  },
  {
   "cell_type": "code",
   "execution_count": 1,
   "metadata": {},
   "outputs": [],
   "source": [
    "import pandas as pd\n",
    "import numpy as np\n",
    "import seaborn as sns\n",
    "import matplotlib.pyplot as plt\n",
    "from scipy import stats as st\n",
    "from scipy.stats import levene"
   ]
  },
  {
   "cell_type": "markdown",
   "metadata": {},
   "source": [
    "\n",
    "<div class=\"alert alert-block alert-success\">\n",
    "<b>Comentario del revisor</b> <a class=\"tocSkip\"></a>\n",
    "\n",
    "Perfecto Santiago, buen trabajo importando las librerías necesarias para el desarrollo del proyecto. </div>"
   ]
  },
  {
   "cell_type": "markdown",
   "metadata": {},
   "source": [
    "### Carga de datos"
   ]
  },
  {
   "cell_type": "code",
   "execution_count": 2,
   "metadata": {},
   "outputs": [],
   "source": [
    "df1 = pd.read_csv(\"/datasets/project_sql_result_01.csv\", sep= \",\")\n",
    "df2 =pd.read_csv(\"/datasets/project_sql_result_04.csv\", sep= \",\")"
   ]
  },
  {
   "cell_type": "markdown",
   "metadata": {},
   "source": [
    "\n",
    "<div class=\"alert alert-block alert-success\">\n",
    "<b>Comentario del revisor</b> <a class=\"tocSkip\"></a>\n",
    "\n",
    "Buen trabajo cargando los datasets necesarios para el desarrollo del proyecto. </div>"
   ]
  },
  {
   "cell_type": "markdown",
   "metadata": {},
   "source": [
    "### Chequeo de tipos de datos"
   ]
  },
  {
   "cell_type": "code",
   "execution_count": 3,
   "metadata": {},
   "outputs": [
    {
     "name": "stdout",
     "output_type": "stream",
     "text": [
      "<class 'pandas.core.frame.DataFrame'>\n",
      "RangeIndex: 64 entries, 0 to 63\n",
      "Data columns (total 2 columns):\n",
      " #   Column        Non-Null Count  Dtype \n",
      "---  ------        --------------  ----- \n",
      " 0   company_name  64 non-null     object\n",
      " 1   trips_amount  64 non-null     int64 \n",
      "dtypes: int64(1), object(1)\n",
      "memory usage: 1.1+ KB\n",
      "                      company_name  trips_amount\n",
      "0                        Flash Cab         19558\n",
      "1        Taxi Affiliation Services         11422\n",
      "2                Medallion Leasing         10367\n",
      "3                       Yellow Cab          9888\n",
      "4  Taxi Affiliation Service Yellow          9299\n",
      "       trips_amount\n",
      "count     64.000000\n",
      "mean    2145.484375\n",
      "std     3812.310186\n",
      "min        2.000000\n",
      "25%       20.750000\n",
      "50%      178.500000\n",
      "75%     2106.500000\n",
      "max    19558.000000\n"
     ]
    }
   ],
   "source": [
    "df1.info()\n",
    "print(df1.head())\n",
    "print(df1.describe())\n"
   ]
  },
  {
   "cell_type": "code",
   "execution_count": 4,
   "metadata": {},
   "outputs": [
    {
     "name": "stdout",
     "output_type": "stream",
     "text": [
      "<class 'pandas.core.frame.DataFrame'>\n",
      "RangeIndex: 94 entries, 0 to 93\n",
      "Data columns (total 2 columns):\n",
      " #   Column                 Non-Null Count  Dtype  \n",
      "---  ------                 --------------  -----  \n",
      " 0   dropoff_location_name  94 non-null     object \n",
      " 1   average_trips          94 non-null     float64\n",
      "dtypes: float64(1), object(1)\n",
      "memory usage: 1.6+ KB\n",
      "  dropoff_location_name  average_trips\n",
      "0                  Loop   10727.466667\n",
      "1           River North    9523.666667\n",
      "2         Streeterville    6664.666667\n",
      "3             West Loop    5163.666667\n",
      "4                O'Hare    2546.900000\n",
      "       average_trips\n",
      "count      94.000000\n",
      "mean      599.953728\n",
      "std      1714.591098\n",
      "min         1.800000\n",
      "25%        14.266667\n",
      "50%        52.016667\n",
      "75%       298.858333\n",
      "max     10727.466667\n"
     ]
    }
   ],
   "source": [
    "df2.info()\n",
    "print(df2.head())\n",
    "print(df2.describe())"
   ]
  },
  {
   "cell_type": "markdown",
   "metadata": {},
   "source": [
    "\n",
    "<div class=\"alert alert-block alert-success\">\n",
    "<b>Comentario del revisor</b> <a class=\"tocSkip\"></a>\n",
    "\n",
    "Buen trabajo desarrollando la exploración inicial del contenido de los dos dataframes, sin embargo, sería interesante poder generar contenido como descripciones de lo encontrado en la sección y así mismo subtítulos que ordenen y separen las diferentes secciones.  </div>"
   ]
  },
  {
   "cell_type": "markdown",
   "metadata": {},
   "source": [
    "### Analisis de datos"
   ]
  },
  {
   "cell_type": "code",
   "execution_count": 5,
   "metadata": {},
   "outputs": [
    {
     "name": "stdout",
     "output_type": "stream",
     "text": [
      "  dropoff_location_name  average_trips\n",
      "0                  Loop   10727.466667\n",
      "1           River North    9523.666667\n",
      "2         Streeterville    6664.666667\n",
      "3             West Loop    5163.666667\n",
      "4                O'Hare    2546.900000\n",
      "5             Lake View    2420.966667\n",
      "6            Grant Park    2068.533333\n",
      "7         Museum Campus    1510.000000\n",
      "8            Gold Coast    1364.233333\n",
      "9    Sheffield & DePaul    1259.766667\n"
     ]
    }
   ],
   "source": [
    "# Ordenar los barrios por promedio de viajes y seleccionar los 10 primeros\n",
    "top_10_barrios = df2.sort_values(by='average_trips', ascending=False).head(10)\n",
    "\n",
    "print(top_10_barrios)"
   ]
  },
  {
   "cell_type": "code",
   "execution_count": 6,
   "metadata": {},
   "outputs": [
    {
     "data": {
      "image/png": "[encoded data removed]",
      "text/plain": [
       "<Figure size 1000x600 with 1 Axes>"
      ]
     },
     "metadata": {},
     "output_type": "display_data"
    }
   ],
   "source": [
    "\n",
    "# Gráfico del top 20 de empresas de taxis y número de viajes\n",
    "top_10_companies = df1.nlargest(10, 'trips_amount')\n",
    "\n",
    "plt.figure(figsize=(10, 6))\n",
    "sns.barplot(x='company_name', y='trips_amount', data=top_10_companies)\n",
    "plt.title('Top 20 Empresas de Taxis por Número de Viajes')\n",
    "plt.xlabel('Empresa de Taxis')\n",
    "plt.ylabel('Número de Viajes')\n",
    "plt.xticks(rotation=90)\n",
    "plt.show()\n"
   ]
  },
  {
   "cell_type": "code",
   "execution_count": 7,
   "metadata": {},
   "outputs": [
    {
     "name": "stdout",
     "output_type": "stream",
     "text": [
      "Total number of companies: 64\n"
     ]
    }
   ],
   "source": [
    "number_of_companies = df1['company_name'].nunique()\n",
    "\n",
    "# Print the result\n",
    "print(f\"Total number of companies: {number_of_companies}\")"
   ]
  },
  {
   "cell_type": "markdown",
   "metadata": {},
   "source": [
    "De las 64 empresas de taxis que hay en esta base de datos, las 3 que tienen mas viajes son Flash Cab,Taxi Affiliation Services y Medallion Leasing. Sin embargo Flash Cab casi que dobla el numero de viajes de las ultimas dos empresas mencionadas. Esto se puede atribuir a varios factores como lo son una mayor cuota de mercado, una flota más grande o una estrategia de precios más competitiva."
   ]
  },
  {
   "cell_type": "markdown",
   "metadata": {},
   "source": [
    "\n",
    "<div class=\"alert alert-block alert-danger\">\n",
    "<b>Comentario del revisor</b> <a class=\"tocSkip\"></a>\n",
    "\n",
    "~~Buen trabajo construyendo la tabla y mostrando el gráfico para explorar la distribución de número de viajes por empresa, ahora bien, hay un aspecto que podrían mejorar la sección. Te los comentaré a continuación:~~\n",
    "\n",
    "- ~~Sería genial poder limitar las observaciones del gráfico a solo el top 10 o 20, lo anterior buscando obtener un esquema más estético.~~\n",
    "    \n",
    "- ~~Sería genial que el importe de librerías quedara solo en la sección inicial del proyecto, esto es más que todo por tema de buenas prácticas.~~\n",
    "\n",
    "</div>\n",
    "\n",
    "\n",
    "<div class=\"alert alert-block alert-success\">\n",
    "<b>Comentario del revisor #2</b> <a class=\"tocSkip\"></a>\n",
    "\n",
    "Perfecto, buen trabajo con la modificación.\n",
    "\n",
    "</div>"
   ]
  },
  {
   "cell_type": "code",
   "execution_count": 8,
   "metadata": {},
   "outputs": [
    {
     "data": {
      "image/png": "[encoded data removed]",
      "text/plain": [
       "<Figure size 1200x600 with 1 Axes>"
      ]
     },
     "metadata": {},
     "output_type": "display_data"
    }
   ],
   "source": [
    "# Gráfico de los 10 barrios principales por número de finalizaciones\n",
    "plt.figure(figsize=(12, 6))\n",
    "sns.barplot(x='dropoff_location_name', y='average_trips', data=top_10_barrios)\n",
    "plt.title('Top 10 Barrios por Promedio de Viajes')\n",
    "plt.xlabel('Barrio')\n",
    "plt.ylabel('Promedio de Viajes')\n",
    "plt.xticks(rotation=45)\n",
    "plt.show()\n"
   ]
  },
  {
   "cell_type": "markdown",
   "metadata": {},
   "source": [
    "Se puede ver en el grafico anterior que los principales barrios en los que finaliza los viajes de taxi estan ubicados en el centro o cerca del centro. Puede estar ampliamente relacionado con el turismo que llega a la ciudad para visitar las atracciones de la misma (Museos, institutos de arte, teatros e importantes edificios) que están construidos alrededor del Rio Chicago."
   ]
  },
  {
   "cell_type": "markdown",
   "metadata": {},
   "source": [
    "\n",
    "<div class=\"alert alert-block alert-success\">\n",
    "<b>Comentario del revisor</b> <a class=\"tocSkip\"></a>\n",
    "\n",
    "Perfecto, Santiago. Buen trabajo con el despliegue y estudio del gráfico del top 10 de barrios por promedio de viajes. \n",
    "</div>"
   ]
  },
  {
   "cell_type": "markdown",
   "metadata": {},
   "source": [
    "### Prueba de hipotesis"
   ]
  },
  {
   "cell_type": "markdown",
   "metadata": {},
   "source": [
    "Hipótesis:\n",
    "\n",
    "\"La duración promedio de los viajes desde el Loop hasta el Aeropuerto Internacional O'Hare cambia los sábados lluviosos\"."
   ]
  },
  {
   "cell_type": "code",
   "execution_count": 9,
   "metadata": {},
   "outputs": [
    {
     "name": "stdout",
     "output_type": "stream",
     "text": [
      "             start_ts weather_conditions  duration_seconds  rainy_saturday\n",
      "0 2017-11-25 16:00:00               Good            2410.0           False\n",
      "1 2017-11-25 14:00:00               Good            1920.0           False\n",
      "2 2017-11-25 12:00:00               Good            1543.0           False\n",
      "3 2017-11-04 10:00:00               Good            2512.0           False\n",
      "4 2017-11-11 07:00:00               Good            1440.0           False\n",
      "5 2017-11-11 04:00:00               Good            1320.0           False\n",
      "6 2017-11-04 16:00:00                Bad            2969.0            True\n",
      "7 2017-11-18 11:00:00               Good            2280.0           False\n",
      "8 2017-11-11 14:00:00               Good            2460.0           False\n",
      "9 2017-11-11 12:00:00               Good            2040.0           False\n"
     ]
    }
   ],
   "source": [
    "# Cargar los datos\n",
    "data = pd.read_csv('/datasets/project_sql_result_07.csv')\n",
    "\n",
    "# Convertir la columna 'start_ts' a un objeto datetime\n",
    "data['start_ts'] = pd.to_datetime(data['start_ts'])\n",
    "\n",
    "# Crear una nueva columna para indicar si el día es sábado y si está lloviendo\n",
    "data['rainy_saturday'] = ((data['start_ts'].dt.dayofweek == 5) & (data['weather_conditions'] == 'Bad'))\n",
    "\n",
    "print(data.head(10))"
   ]
  },
  {
   "cell_type": "markdown",
   "metadata": {},
   "source": [
    "\n",
    "<div class=\"alert alert-block alert-success\">\n",
    "<b>Comentario del revisor</b> <a class=\"tocSkip\"></a>\n",
    "\n",
    "Buen trabajo cargando y explorando el contenido del dataframe necesario para el desarrollo de la sección de prueba de hipótesis. \n",
    "</div>"
   ]
  },
  {
   "cell_type": "code",
   "execution_count": 10,
   "metadata": {},
   "outputs": [],
   "source": [
    "# Dividir los datos en dos grupos\n",
    "rainy_saturday_duration = data[data['rainy_saturday']]['duration_seconds']\n",
    "other_days_duration = data[~data['rainy_saturday']]['duration_seconds']\n"
   ]
  },
  {
   "cell_type": "markdown",
   "metadata": {},
   "source": [
    "\n",
    "<div class=\"alert alert-block alert-success\">\n",
    "<b>Comentario del revisor</b> <a class=\"tocSkip\"></a>\n",
    "\n",
    "Buen trabajo realizando la separación de los datos en los dos grupos de interés.  </div>"
   ]
  },
  {
   "cell_type": "code",
   "execution_count": 11,
   "metadata": {},
   "outputs": [
    {
     "name": "stdout",
     "output_type": "stream",
     "text": [
      "p-value: 0.5332038671974493\n",
      "We fail to reject the null hypothesis\n"
     ]
    }
   ],
   "source": [
    "\n",
    "# Test de Levene\n",
    "\n",
    "alpha= 0.05\n",
    "varianza = levene(rainy_saturday_duration, other_days_duration)\n",
    "print('p-value:', varianza.pvalue)\n",
    "\n",
    "if (varianza.pvalue < alpha):\n",
    "    print('We reject the null hypothesis')\n",
    "else:\n",
    "    print('We fail to reject the null hypothesis')"
   ]
  },
  {
   "cell_type": "markdown",
   "metadata": {},
   "source": [
    "\n",
    "<div class=\"alert alert-block alert-danger\">\n",
    "<b>Comentario del revisor</b> <a class=\"tocSkip\"></a>\n",
    "\n",
    "~~Buen trabajo, tal como lo desarrollas, es importante poder estudiar las varianzas de los dos grupos, de modo que buen trabajo aplicando la prueba levene, solo te recomendaría dejar el importe de librerías para la sección inicial del proyecto.~~   </div>"
   ]
  },
  {
   "cell_type": "markdown",
   "metadata": {},
   "source": [
    "\n",
    "<div class=\"alert alert-block alert-success\">\n",
    "<b>Comentario del revisor #2</b> <a class=\"tocSkip\"></a>\n",
    "\n",
    "Buen trabajo Santiago.  </div>"
   ]
  },
  {
   "cell_type": "code",
   "execution_count": 12,
   "metadata": {},
   "outputs": [
    {
     "name": "stdout",
     "output_type": "stream",
     "text": [
      "p-value: 6.738994326108734e-12\n",
      "We reject the null hypothesis\n"
     ]
    }
   ],
   "source": [
    "alpha = 0.05\n",
    "results = st.ttest_ind(rainy_saturday_duration, other_days_duration, equal_var=False)\n",
    "\n",
    "print('p-value:', results.pvalue)\n",
    "if results.pvalue < alpha:\n",
    "    print('We reject the null hypothesis')\n",
    "else:\n",
    "    print('We fail to reject the null hypothesis')"
   ]
  },
  {
   "cell_type": "markdown",
   "metadata": {},
   "source": [
    "Hipótesis Nula (H0): La duración promedio de los viajes en sábados lluviosos es igual a la duración promedio de los viajes en otros días.\n",
    "\n",
    "Hipótesis Alternativa (H1): La duración promedio de los viajes en sábados lluviosos es diferente a la duración promedio de los viajes en otros días.\n",
    "\n",
    "Si Pvalue < alpha:Rechazamos la hipótesis nula. Esto significa que hay evidencia estadísticamente significativa para sugerir que la duración promedio de los viajes es diferente en los sábados lluviosos."
   ]
  },
  {
   "cell_type": "markdown",
   "metadata": {},
   "source": [
    "\n",
    "<div class=\"alert alert-block alert-success\">\n",
    "<b>Comentario del revisor</b> <a class=\"tocSkip\"></a>\n",
    "\n",
    "Perfecto, buen trabajo desplegando la prueba de hipótesis.    </div>"
   ]
  },
  {
   "cell_type": "markdown",
   "metadata": {},
   "source": [
    "### Conclusión general"
   ]
  },
  {
   "cell_type": "markdown",
   "metadata": {},
   "source": [
    "A partir de los análisis realizados sobre los datos de viajes en taxi de la ciudad de Chicago, podemos extraer las siguientes conclusiones:\n",
    "\n",
    "Dominancia de Flash Cab: La empresa Flash Cab se destaca como el principal proveedor de servicios de taxi en Chicago, superando significativamente a sus competidores más cercanos. Este dominio puede atribuirse a diversos factores como una mayor cuota de mercado, una flota más extensa o estrategias de precios y marketing más efectivas.\n",
    "\n",
    "Concentración de viajes en el centro de la ciudad: Los datos muestran una clara tendencia de los viajes de taxi a concentrarse en el centro de Chicago y sus alrededores. Esta concentración puede estar estrechamente relacionada con la presencia de numerosos puntos de interés turístico, comerciales y culturales en esta zona, lo que atrae a un gran número de pasajeros.\n",
    "\n",
    "Impacto del clima en la duración de los viajes: La prueba de hipótesis realizada ha demostrado que la duración promedio de los viajes desde el Loop hasta el Aeropuerto Internacional O'Hare varía significativamente en los sábados lluviosos. Esto sugiere que las condiciones climáticas adversas, como la lluvia, pueden influir en el tiempo de viaje debido a factores como el aumento del tráfico, la reducción de la velocidad o las condiciones de las vías.\n",
    "\n",
    "En resumen, este análisis proporciona una visión general del mercado de taxis en Chicago, identificando a los principales actores, los destinos más populares y los factores que pueden influir en la duración de los viajes. Estos hallazgos pueden ser de gran utilidad para empresas de taxis, planificadores urbanos y autoridades de transporte al tomar decisiones estratégicas y mejorar la eficiencia de los servicios de transporte público."
   ]
  },
  {
   "cell_type": "markdown",
   "metadata": {},
   "source": [
    "\n",
    "<div class=\"alert alert-block alert-danger\">\n",
    "<b>Comentario del revisor</b> <a class=\"tocSkip\"></a>\n",
    "\n",
    "~~Sería genial poder generar una sección de conclusiones generales. ~~  </div>\n",
    "\n",
    "\n",
    "<div class=\"alert alert-block alert-success\">\n",
    "<b>Comentario del revisor #2</b> <a class=\"tocSkip\"></a>\n",
    "\n",
    "Buen trabajo generando la sección de conclusiones. </div>"
   ]
  }
 ],
 "metadata": {
  "ExecuteTimeLog": [
   {
    "duration": 5129,
    "start_time": "2024-08-03T19:30:38.688Z"
   },
   {
    "duration": 25,
    "start_time": "2024-08-03T19:34:55.348Z"
   },
   {
    "duration": 18,
    "start_time": "2024-08-03T19:35:07.174Z"
   },
   {
    "duration": 24,
    "start_time": "2024-08-03T19:35:31.155Z"
   },
   {
    "duration": 5106,
    "start_time": "2024-08-03T20:41:01.138Z"
   },
   {
    "duration": 18,
    "start_time": "2024-08-03T20:41:06.249Z"
   },
   {
    "duration": 37,
    "start_time": "2024-08-03T20:41:06.269Z"
   },
   {
    "duration": 16,
    "start_time": "2024-08-03T20:41:06.309Z"
   },
   {
    "duration": 20,
    "start_time": "2024-08-03T20:41:28.807Z"
   },
   {
    "duration": 17,
    "start_time": "2024-08-03T20:41:52.032Z"
   },
   {
    "duration": 21,
    "start_time": "2024-08-03T20:42:11.016Z"
   },
   {
    "duration": 22,
    "start_time": "2024-08-03T20:42:34.887Z"
   },
   {
    "duration": 4,
    "start_time": "2024-08-03T20:48:13.233Z"
   },
   {
    "duration": 8,
    "start_time": "2024-08-03T20:49:00.620Z"
   },
   {
    "duration": 2011,
    "start_time": "2024-08-03T20:52:12.991Z"
   },
   {
    "duration": 398,
    "start_time": "2024-08-03T20:54:11.866Z"
   },
   {
    "duration": 1974,
    "start_time": "2024-08-03T20:56:41.747Z"
   },
   {
    "duration": 1943,
    "start_time": "2024-08-03T20:57:03.363Z"
   },
   {
    "duration": 6,
    "start_time": "2024-08-03T21:07:03.518Z"
   },
   {
    "duration": 1946,
    "start_time": "2024-08-03T21:13:34.092Z"
   },
   {
    "duration": 1247,
    "start_time": "2024-08-03T21:14:04.372Z"
   },
   {
    "duration": 2078,
    "start_time": "2024-08-03T21:14:45.135Z"
   },
   {
    "duration": 706,
    "start_time": "2024-08-03T21:48:56.512Z"
   },
   {
    "duration": 29,
    "start_time": "2024-08-03T21:49:41.497Z"
   },
   {
    "duration": 1406,
    "start_time": "2024-08-03T21:49:55.831Z"
   },
   {
    "duration": 14,
    "start_time": "2024-08-03T21:49:57.240Z"
   },
   {
    "duration": 45,
    "start_time": "2024-08-03T21:49:57.257Z"
   },
   {
    "duration": 26,
    "start_time": "2024-08-03T21:49:57.308Z"
   },
   {
    "duration": 10,
    "start_time": "2024-08-03T21:49:57.337Z"
   },
   {
    "duration": 2144,
    "start_time": "2024-08-03T21:49:57.350Z"
   },
   {
    "duration": 5,
    "start_time": "2024-08-03T21:49:59.498Z"
   },
   {
    "duration": 323,
    "start_time": "2024-08-03T21:49:59.507Z"
   },
   {
    "duration": 18,
    "start_time": "2024-08-03T21:49:59.834Z"
   },
   {
    "duration": 9,
    "start_time": "2024-08-03T21:51:20.399Z"
   },
   {
    "duration": 1295,
    "start_time": "2024-08-03T21:51:22.416Z"
   },
   {
    "duration": 611,
    "start_time": "2024-08-03T21:51:37.409Z"
   },
   {
    "duration": 26,
    "start_time": "2024-08-03T21:52:37.459Z"
   },
   {
    "duration": 6,
    "start_time": "2024-08-03T21:53:12.122Z"
   },
   {
    "duration": 7,
    "start_time": "2024-08-03T21:56:42.186Z"
   },
   {
    "duration": 28,
    "start_time": "2024-08-03T21:59:40.565Z"
   },
   {
    "duration": 27,
    "start_time": "2024-08-03T21:59:50.725Z"
   },
   {
    "duration": 7,
    "start_time": "2024-08-03T22:00:28.412Z"
   },
   {
    "duration": 761,
    "start_time": "2024-08-03T22:00:44.117Z"
   },
   {
    "duration": 8,
    "start_time": "2024-08-03T22:01:10.273Z"
   },
   {
    "duration": 317,
    "start_time": "2024-08-04T21:28:55.370Z"
   },
   {
    "duration": 4864,
    "start_time": "2024-08-04T21:29:03.016Z"
   },
   {
    "duration": 19,
    "start_time": "2024-08-04T21:29:07.884Z"
   },
   {
    "duration": 32,
    "start_time": "2024-08-04T21:29:07.906Z"
   },
   {
    "duration": 22,
    "start_time": "2024-08-04T21:29:07.941Z"
   },
   {
    "duration": 7,
    "start_time": "2024-08-04T21:29:07.968Z"
   },
   {
    "duration": 1980,
    "start_time": "2024-08-04T21:29:07.979Z"
   },
   {
    "duration": 6,
    "start_time": "2024-08-04T21:29:09.962Z"
   },
   {
    "duration": 319,
    "start_time": "2024-08-04T21:29:09.971Z"
   },
   {
    "duration": 22,
    "start_time": "2024-08-04T21:29:10.293Z"
   },
   {
    "duration": 11,
    "start_time": "2024-08-04T21:29:10.326Z"
   },
   {
    "duration": 8,
    "start_time": "2024-08-04T21:29:10.341Z"
   },
   {
    "duration": 9,
    "start_time": "2024-08-04T21:29:10.353Z"
   },
   {
    "duration": 1227,
    "start_time": "2024-08-04T21:33:26.873Z"
   },
   {
    "duration": 19,
    "start_time": "2024-08-04T21:33:28.103Z"
   },
   {
    "duration": 25,
    "start_time": "2024-08-04T21:33:28.126Z"
   },
   {
    "duration": 23,
    "start_time": "2024-08-04T21:33:28.157Z"
   },
   {
    "duration": 39,
    "start_time": "2024-08-04T21:33:28.183Z"
   },
   {
    "duration": 529,
    "start_time": "2024-08-04T21:33:28.226Z"
   },
   {
    "duration": 5,
    "start_time": "2024-08-04T21:33:28.758Z"
   },
   {
    "duration": 307,
    "start_time": "2024-08-04T21:33:28.766Z"
   },
   {
    "duration": 17,
    "start_time": "2024-08-04T21:33:29.076Z"
   },
   {
    "duration": 27,
    "start_time": "2024-08-04T21:33:29.098Z"
   },
   {
    "duration": 8,
    "start_time": "2024-08-04T21:33:29.128Z"
   },
   {
    "duration": 7,
    "start_time": "2024-08-04T21:33:29.140Z"
   },
   {
    "duration": 1276,
    "start_time": "2024-08-04T21:34:42.822Z"
   },
   {
    "duration": 22,
    "start_time": "2024-08-04T21:34:44.101Z"
   },
   {
    "duration": 25,
    "start_time": "2024-08-04T21:34:44.126Z"
   },
   {
    "duration": 22,
    "start_time": "2024-08-04T21:34:44.154Z"
   },
   {
    "duration": 8,
    "start_time": "2024-08-04T21:34:44.179Z"
   },
   {
    "duration": 507,
    "start_time": "2024-08-04T21:34:44.224Z"
   },
   {
    "duration": 6,
    "start_time": "2024-08-04T21:34:44.734Z"
   },
   {
    "duration": 311,
    "start_time": "2024-08-04T21:34:44.743Z"
   },
   {
    "duration": 18,
    "start_time": "2024-08-04T21:34:45.059Z"
   },
   {
    "duration": 6,
    "start_time": "2024-08-04T21:34:45.084Z"
   },
   {
    "duration": 34,
    "start_time": "2024-08-04T21:34:45.093Z"
   },
   {
    "duration": 7,
    "start_time": "2024-08-04T21:34:45.129Z"
   },
   {
    "duration": 5014,
    "start_time": "2024-08-05T00:23:06.612Z"
   },
   {
    "duration": 18,
    "start_time": "2024-08-05T00:23:11.629Z"
   },
   {
    "duration": 27,
    "start_time": "2024-08-05T00:23:11.650Z"
   },
   {
    "duration": 20,
    "start_time": "2024-08-05T00:23:11.682Z"
   },
   {
    "duration": 8,
    "start_time": "2024-08-05T00:23:11.727Z"
   },
   {
    "duration": 529,
    "start_time": "2024-08-05T00:23:11.738Z"
   },
   {
    "duration": 5,
    "start_time": "2024-08-05T00:23:12.270Z"
   },
   {
    "duration": 319,
    "start_time": "2024-08-05T00:23:12.278Z"
   },
   {
    "duration": 25,
    "start_time": "2024-08-05T00:23:12.602Z"
   },
   {
    "duration": 6,
    "start_time": "2024-08-05T00:23:12.632Z"
   },
   {
    "duration": 6,
    "start_time": "2024-08-05T00:23:12.642Z"
   },
   {
    "duration": 8,
    "start_time": "2024-08-05T00:23:12.651Z"
   },
   {
    "duration": 1273,
    "start_time": "2024-08-05T00:23:27.549Z"
   },
   {
    "duration": 13,
    "start_time": "2024-08-05T00:23:28.828Z"
   },
   {
    "duration": 25,
    "start_time": "2024-08-05T00:23:28.843Z"
   },
   {
    "duration": 22,
    "start_time": "2024-08-05T00:23:28.872Z"
   },
   {
    "duration": 8,
    "start_time": "2024-08-05T00:23:28.925Z"
   },
   {
    "duration": 531,
    "start_time": "2024-08-05T00:23:28.936Z"
   },
   {
    "duration": 5,
    "start_time": "2024-08-05T00:23:29.470Z"
   },
   {
    "duration": 315,
    "start_time": "2024-08-05T00:23:29.479Z"
   },
   {
    "duration": 31,
    "start_time": "2024-08-05T00:23:29.797Z"
   },
   {
    "duration": 7,
    "start_time": "2024-08-05T00:23:29.833Z"
   },
   {
    "duration": 8,
    "start_time": "2024-08-05T00:23:29.843Z"
   },
   {
    "duration": 12,
    "start_time": "2024-08-05T00:23:29.855Z"
   },
   {
    "duration": 1245,
    "start_time": "2024-08-05T00:24:15.847Z"
   },
   {
    "duration": 13,
    "start_time": "2024-08-05T00:24:17.095Z"
   },
   {
    "duration": 34,
    "start_time": "2024-08-05T00:24:17.111Z"
   },
   {
    "duration": 22,
    "start_time": "2024-08-05T00:24:17.149Z"
   },
   {
    "duration": 8,
    "start_time": "2024-08-05T00:24:17.174Z"
   },
   {
    "duration": 527,
    "start_time": "2024-08-05T00:24:17.186Z"
   },
   {
    "duration": 0,
    "start_time": "2024-08-05T00:24:17.716Z"
   },
   {
    "duration": 0,
    "start_time": "2024-08-05T00:24:17.727Z"
   },
   {
    "duration": 0,
    "start_time": "2024-08-05T00:24:17.730Z"
   },
   {
    "duration": 0,
    "start_time": "2024-08-05T00:24:17.733Z"
   },
   {
    "duration": 0,
    "start_time": "2024-08-05T00:24:17.735Z"
   },
   {
    "duration": 0,
    "start_time": "2024-08-05T00:24:17.736Z"
   },
   {
    "duration": 1245,
    "start_time": "2024-08-05T00:24:46.867Z"
   },
   {
    "duration": 20,
    "start_time": "2024-08-05T00:24:48.115Z"
   },
   {
    "duration": 24,
    "start_time": "2024-08-05T00:24:48.139Z"
   },
   {
    "duration": 23,
    "start_time": "2024-08-05T00:24:48.167Z"
   },
   {
    "duration": 39,
    "start_time": "2024-08-05T00:24:48.192Z"
   },
   {
    "duration": 409,
    "start_time": "2024-08-05T00:24:48.234Z"
   },
   {
    "duration": 5,
    "start_time": "2024-08-05T00:24:48.647Z"
   },
   {
    "duration": 303,
    "start_time": "2024-08-05T00:24:48.657Z"
   },
   {
    "duration": 18,
    "start_time": "2024-08-05T00:24:48.963Z"
   },
   {
    "duration": 7,
    "start_time": "2024-08-05T00:24:48.987Z"
   },
   {
    "duration": 33,
    "start_time": "2024-08-05T00:24:48.997Z"
   },
   {
    "duration": 7,
    "start_time": "2024-08-05T00:24:49.033Z"
   },
   {
    "duration": 1265,
    "start_time": "2024-08-05T00:25:13.521Z"
   },
   {
    "duration": 12,
    "start_time": "2024-08-05T00:25:14.790Z"
   },
   {
    "duration": 36,
    "start_time": "2024-08-05T00:25:14.805Z"
   },
   {
    "duration": 22,
    "start_time": "2024-08-05T00:25:14.846Z"
   },
   {
    "duration": 8,
    "start_time": "2024-08-05T00:25:14.871Z"
   },
   {
    "duration": 447,
    "start_time": "2024-08-05T00:25:14.883Z"
   },
   {
    "duration": 6,
    "start_time": "2024-08-05T00:25:15.333Z"
   },
   {
    "duration": 335,
    "start_time": "2024-08-05T00:25:15.343Z"
   },
   {
    "duration": 19,
    "start_time": "2024-08-05T00:25:15.681Z"
   },
   {
    "duration": 8,
    "start_time": "2024-08-05T00:25:15.725Z"
   },
   {
    "duration": 8,
    "start_time": "2024-08-05T00:25:15.735Z"
   },
   {
    "duration": 7,
    "start_time": "2024-08-05T00:25:15.746Z"
   },
   {
    "duration": 388,
    "start_time": "2024-08-05T00:25:48.808Z"
   },
   {
    "duration": 1292,
    "start_time": "2024-08-05T00:26:02.513Z"
   },
   {
    "duration": 24,
    "start_time": "2024-08-05T00:26:03.808Z"
   },
   {
    "duration": 26,
    "start_time": "2024-08-05T00:26:03.834Z"
   },
   {
    "duration": 22,
    "start_time": "2024-08-05T00:26:03.863Z"
   },
   {
    "duration": 36,
    "start_time": "2024-08-05T00:26:03.889Z"
   },
   {
    "duration": 377,
    "start_time": "2024-08-05T00:26:03.929Z"
   },
   {
    "duration": 6,
    "start_time": "2024-08-05T00:26:04.309Z"
   },
   {
    "duration": 314,
    "start_time": "2024-08-05T00:26:04.318Z"
   },
   {
    "duration": 18,
    "start_time": "2024-08-05T00:26:04.635Z"
   },
   {
    "duration": 7,
    "start_time": "2024-08-05T00:26:04.655Z"
   },
   {
    "duration": 7,
    "start_time": "2024-08-05T00:26:04.666Z"
   },
   {
    "duration": 7,
    "start_time": "2024-08-05T00:26:04.676Z"
   }
  ],
  "kernelspec": {
   "display_name": "Python 3 (ipykernel)",
   "language": "python",
   "name": "python3"
  },
  "language_info": {
   "codemirror_mode": {
    "name": "ipython",
    "version": 3
   },
   "file_extension": ".py",
   "mimetype": "text/x-python",
   "name": "python",
   "nbconvert_exporter": "python",
   "pygments_lexer": "ipython3",
   "version": "3.9.19"
  },
  "toc": {
   "base_numbering": 1,
   "nav_menu": {},
   "number_sections": true,
   "sideBar": true,
   "skip_h1_title": true,
   "title_cell": "Table of Contents",
   "title_sidebar": "Contents",
   "toc_cell": false,
   "toc_position": {},
   "toc_section_display": true,
   "toc_window_display": false
  }
 },
 "nbformat": 4,
 "nbformat_minor": 2
}
